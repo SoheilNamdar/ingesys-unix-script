{
 "cells": [
  {
   "cell_type": "code",
   "execution_count": 13,
   "id": "5692cb7d-e9ac-430f-b6dc-dec40c450e62",
   "metadata": {},
   "outputs": [],
   "source": [
    "import numpy\n",
    "import matplotlib as mpl\n",
    "mpl.get_cachedir()\n",
    "import matplotlib.pyplot as plt"
   ]
  },
  {
   "cell_type": "code",
   "execution_count": 15,
   "id": "d75dbaa4-95e6-4674-a305-60e22cfd407d",
   "metadata": {},
   "outputs": [],
   "source": [
    "#import cv2 as cv"
   ]
  },
  {
   "cell_type": "code",
   "execution_count": 9,
   "id": "ba7ee9c0-25ad-4fd5-a105-e1c6bd9100ab",
   "metadata": {},
   "outputs": [
    {
     "name": "stdout",
     "output_type": "stream",
     "text": [
      "115\n"
     ]
    }
   ],
   "source": [
    "x = 45\n",
    "y = 70\n",
    "print(x + y)"
   ]
  },
  {
   "cell_type": "code",
   "execution_count": 4,
   "id": "7c853a27-1537-4f1e-beda-92efc33e818f",
   "metadata": {},
   "outputs": [],
   "source": [
    "msg = \"learn numpy\""
   ]
  },
  {
   "cell_type": "code",
   "execution_count": 5,
   "id": "5c1caf0a-212f-48c7-893b-df4ac35c0334",
   "metadata": {},
   "outputs": [
    {
     "name": "stdout",
     "output_type": "stream",
     "text": [
      "learn numpy\n"
     ]
    }
   ],
   "source": [
    "print(msg)"
   ]
  },
  {
   "cell_type": "code",
   "execution_count": null,
   "id": "6a091646-ad21-415b-b2b0-7cb610075335",
   "metadata": {},
   "outputs": [],
   "source": []
  }
 ],
 "metadata": {
  "kernelspec": {
   "display_name": "Python 3 (ipykernel)",
   "language": "python",
   "name": "python3"
  },
  "language_info": {
   "codemirror_mode": {
    "name": "ipython",
    "version": 3
   },
   "file_extension": ".py",
   "mimetype": "text/x-python",
   "name": "python",
   "nbconvert_exporter": "python",
   "pygments_lexer": "ipython3",
   "version": "3.10.12"
  }
 },
 "nbformat": 4,
 "nbformat_minor": 5
}
